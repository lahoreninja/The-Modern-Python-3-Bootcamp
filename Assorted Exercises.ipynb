{
  "nbformat": 4,
  "nbformat_minor": 0,
  "metadata": {
    "colab": {
      "provenance": []
    },
    "kernelspec": {
      "name": "python3",
      "display_name": "Python 3"
    },
    "language_info": {
      "name": "python"
    }
  },
  "cells": [
    {
      "cell_type": "code",
      "execution_count": null,
      "metadata": {
        "colab": {
          "base_uri": "https://localhost:8080/"
        },
        "id": "DrM_AoPpEMag",
        "outputId": "3903b7e9-805f-4008-bee7-b3cab96b5852"
      },
      "outputs": [
        {
          "output_type": "stream",
          "name": "stdout",
          "text": [
            "Looking in indexes: https://pypi.org/simple, https://us-python.pkg.dev/colab-wheels/public/simple/\n",
            "Collecting pyfiglet\n",
            "  Downloading pyfiglet-0.8.post1-py2.py3-none-any.whl (865 kB)\n",
            "\u001b[K     |████████████████████████████████| 865 kB 2.1 MB/s \n",
            "\u001b[?25hInstalling collected packages: pyfiglet\n",
            "Successfully installed pyfiglet-0.8.post1\n"
          ]
        }
      ],
      "source": [
        "pip install pyfiglet\n"
      ]
    },
    {
      "cell_type": "code",
      "source": [
        "import random\n",
        "from pyfiglet import figlet_format as ff\n",
        "\n",
        "print(ff(\"Rock, Paper, Scissors\", font = \"standard\"))\n",
        "print(ff(\"By Faizan Khan\", font = \"digital\"))\n",
        "\n",
        "\n",
        "player_1 = input(\"Enter rock, paper, or scissors \\n\").lower()\n",
        "player_2 = random.choice([\"rock\", \"paper\", \"scissors\"])\n",
        "print(player_2)\n",
        "\n",
        "if player_1 == player_2:\n",
        "    print(\"It's a Tie\")\n",
        "elif player_1 == \"rock\":\n",
        "    if player_2 == \"paper\":\n",
        "        print(\"Player 2 Wins\")\n",
        "    elif player_2 == \"scissors\":\n",
        "        print(\"Player 1 Wins\")\n",
        "elif player_1 == \"paper\":\n",
        "    if player_2 == \"scissors\":\n",
        "        print(\"Player 1 Wins\")\n",
        "    elif player_2 == \"rock\":\n",
        "        print(\"Player 1 Wins\")\n",
        "elif player_1 == \"scissors\":\n",
        "    if player_2 == \"paper\":\n",
        "        print(\"Player 1 Wins\")\n",
        "    elif player_2 == \"rock\":\n",
        "        print(\"Player_2 Wins\")\n",
        "else:\n",
        "    print(\"Enter a Valid Answer\")"
      ],
      "metadata": {
        "id": "cYFe4RCeEvAl"
      },
      "execution_count": null,
      "outputs": []
    },
    {
      "cell_type": "code",
      "source": [
        "g = \"guitar\"\n",
        "\n",
        "for x in g[: : -1]: \n",
        "    print(x)"
      ],
      "metadata": {
        "id": "00F2ARBdEy3s"
      },
      "execution_count": null,
      "outputs": []
    },
    {
      "cell_type": "code",
      "source": [
        "# Add up all odd numbers between 10 and 20\n",
        "# Store the result in x:\n",
        "x = 0\n",
        "\n",
        "# YOUR CODE GOES HERE:\n",
        "\n",
        "for i in range(10, 21):\n",
        "  if i % 2 != 0:\n",
        "    x = i + x\n",
        "print(x)\n"
      ],
      "metadata": {
        "colab": {
          "base_uri": "https://localhost:8080/"
        },
        "id": "tmOjDhP0o9wT",
        "outputId": "0bf4c681-1914-4206-c0d4-383622de3c76"
      },
      "execution_count": null,
      "outputs": [
        {
          "output_type": "stream",
          "name": "stdout",
          "text": [
            "75\n"
          ]
        }
      ]
    },
    {
      "cell_type": "code",
      "source": [
        "UserEntered = input(\"Enter something to be repeated \\n\")\n",
        "for i in range(20):\n",
        "  print(UserEntered)"
      ],
      "metadata": {
        "id": "l9QfFDRNpbOA"
      },
      "execution_count": null,
      "outputs": []
    },
    {
      "cell_type": "code",
      "source": [
        "for i in range(21):\n",
        "  print(i)"
      ],
      "metadata": {
        "id": "YQ7AWJPNrsGo"
      },
      "execution_count": null,
      "outputs": []
    },
    {
      "cell_type": "code",
      "source": [
        "# Loop through numbers 1 - 20.\n",
        "# If number is 4 or 13, print \"unlucky\"\n",
        "# If number is even, print \"even\"\n",
        "# If number is odd, print \"odd\"\n",
        "\n",
        "for i in range(1, 21):\n",
        "  if i == 4 or i == 13:\n",
        "    print(f\"{i} is unlucky\")\n",
        "  elif i % 2 == 0:\n",
        "    print(f\"{i} is even\")\n",
        "  else:\n",
        "    print(f\"{i} is odd\")"
      ],
      "metadata": {
        "id": "bDAa4VBfn8dZ"
      },
      "execution_count": null,
      "outputs": []
    },
    {
      "cell_type": "code",
      "source": [
        "# Print triangle using a for and while loop\n",
        "\n",
        "for x in range(11):\n",
        "  print(x * \"*\")\n",
        "\n",
        "j = 1\n",
        "while j < 11:\n",
        "  print(j * \"*\")\n",
        "  j += 1"
      ],
      "metadata": {
        "id": "Jz7ttctjutfW"
      },
      "execution_count": null,
      "outputs": []
    },
    {
      "cell_type": "code",
      "source": [
        "# repeat everything until user enters \"stop copying me\"\n",
        "\n",
        "UserInput = input(\"Hey, how's it going? \\n\")\n",
        "while UserInput != \"stop copying me\":\n",
        "  print(UserInput)\n",
        "  UserInput = input(\"\")\n",
        "print(\"fine\")"
      ],
      "metadata": {
        "id": "ZzY23_TTDjkf"
      },
      "execution_count": null,
      "outputs": []
    },
    {
      "cell_type": "code",
      "source": [
        "from random import randint \n",
        "\n",
        "number = randint(1, 10)\n",
        "i = 0\n",
        "while number != 5:\n",
        "  print(number)"
      ],
      "metadata": {
        "id": "8oM1JgMz3rSV"
      },
      "execution_count": null,
      "outputs": []
    },
    {
      "cell_type": "code",
      "source": [
        "from random import randint \n",
        "\n",
        "while True:\n",
        "  number = randint(1, 10)\n",
        "  if number != 5:\n",
        "    print(number)\n",
        "    break"
      ],
      "metadata": {
        "colab": {
          "base_uri": "https://localhost:8080/"
        },
        "id": "BPZ9qYag7LST",
        "outputId": "861693c7-419e-4573-d31b-b7cb22c85144"
      },
      "execution_count": null,
      "outputs": [
        {
          "output_type": "stream",
          "name": "stdout",
          "text": [
            "9\n"
          ]
        }
      ]
    },
    {
      "cell_type": "code",
      "source": [
        "# Print random number until it reaches 5\n",
        "\n",
        "from random import randint \n",
        "\n",
        "number = randint(1, 10)\n",
        "i = 0\n",
        "while number != 5:\n",
        "  i += i\n",
        "  print(i * number)"
      ],
      "metadata": {
        "id": "10ncvKjS-GPF"
      },
      "execution_count": null,
      "outputs": []
    },
    {
      "cell_type": "code",
      "source": [
        "from random import randint\n",
        "\n",
        "number = randint(1, 10)\n",
        "i = 0\n",
        "while True:\n",
        "  if number != 5:\n",
        "    i += i\n",
        "    print(number * i)\n",
        "    break"
      ],
      "metadata": {
        "id": "Z5I2KtLR_xHJ"
      },
      "execution_count": null,
      "outputs": []
    },
    {
      "cell_type": "code",
      "source": [
        "from random import randint\n",
        "\n",
        "i = 0\n",
        "number = randint(1, 10)\n",
        "for i == number:\n",
        "  print(number)\n"
      ],
      "metadata": {
        "id": "LiYyB8S1UsM5"
      },
      "execution_count": null,
      "outputs": []
    },
    {
      "cell_type": "code",
      "source": [
        "i = 0\n",
        "while i < 11:\n",
        "  i += 1\n",
        "  print(i)\n"
      ],
      "metadata": {
        "id": "1sxlST2WWsr_"
      },
      "execution_count": null,
      "outputs": []
    },
    {
      "cell_type": "code",
      "source": [
        "from random import randint\n",
        "\n",
        "number = 0\n",
        "i = 0\n",
        "while number !=5:\n",
        "  number = randint(1, 10)\n",
        "  i += number\n",
        "print(i)\n",
        "  "
      ],
      "metadata": {
        "id": "Iwd53dxkm7sd"
      },
      "execution_count": null,
      "outputs": []
    },
    {
      "cell_type": "code",
      "source": [
        "from random import randint\n",
        "\n",
        "number = 0\n",
        "i = 0\n",
        "while True:\n",
        "    number = randint(1, 10)\n",
        "    if number != 5:\n",
        "      i += number\n",
        "    print(number)\n",
        "  "
      ],
      "metadata": {
        "id": "gnEcWPVmpUEi"
      },
      "execution_count": null,
      "outputs": []
    },
    {
      "cell_type": "code",
      "source": [
        "# Generate a new random number between 1 and 10 while the random number is not equal to 5.\n",
        "\n",
        "from random import randint\n",
        "\n",
        "number = 0\n",
        "i = 0\n",
        "while True:\n",
        "    number = randint(1, 10)\n",
        "    if number == 5:\n",
        "      break\n",
        "    else:\n",
        "      i += number\n",
        "    print(number)\n",
        "print(number)"
      ],
      "metadata": {
        "id": "UhCiKp9q2_sR"
      },
      "execution_count": null,
      "outputs": []
    },
    {
      "cell_type": "code",
      "source": [
        "# Generate a new random number between 1 and 10 while the random number is not equal to 5.\n",
        "\n",
        "from random import randint\n",
        "\n",
        "while True:\n",
        "  number = randint(1, 10)\n",
        "  if number == 5:\n",
        "    break\n",
        "  else:\n",
        "    print(number)\n",
        "print(number)"
      ],
      "metadata": {
        "colab": {
          "base_uri": "https://localhost:8080/"
        },
        "id": "3KAeCqrj0oOw",
        "outputId": "a2f299a1-6f3d-476b-c949-07148748d84c"
      },
      "execution_count": null,
      "outputs": [
        {
          "output_type": "stream",
          "name": "stdout",
          "text": [
            "1\n",
            "6\n",
            "9\n",
            "2\n",
            "4\n",
            "3\n",
            "3\n",
            "7\n",
            "5\n"
          ]
        }
      ]
    }
  ]
}